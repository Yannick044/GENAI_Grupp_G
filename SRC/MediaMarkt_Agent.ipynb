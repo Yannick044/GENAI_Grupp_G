{
 "cells": [
  {
   "cell_type": "code",
   "id": "initial_id",
   "metadata": {
    "collapsed": true,
    "ExecuteTime": {
     "end_time": "2025-10-25T17:01:05.601497Z",
     "start_time": "2025-10-25T17:01:05.587989Z"
    }
   },
   "source": [
    ""
   ],
   "outputs": [],
   "execution_count": null
  },
  {
   "metadata": {},
   "cell_type": "markdown",
   "source": "Setup & Keys",
   "id": "9f095d847a3f4dc6"
  },
  {
   "metadata": {
    "ExecuteTime": {
     "end_time": "2025-10-25T17:01:05.626603Z",
     "start_time": "2025-10-25T17:01:05.619790Z"
    }
   },
   "cell_type": "code",
   "source": [
    "# Cell 1: Setup\n",
    "from dotenv import load_dotenv\n",
    "import os\n",
    "\n",
    "load_dotenv()  # lädt .env\n",
    "\n",
    "BASE_URL = \"https://api.cerebras.ai/v1\"\n",
    "LLM_MODEL = \"gpt-oss-120b\"\n",
    "LLM_TEMPERATURE = 0.3\n",
    "LLM_API_KEY = os.environ[\"CEREBRAS_API_KEY\"]\n"
   ],
   "id": "fe696e7230c5d0e7",
   "outputs": [],
   "execution_count": 73
  },
  {
   "metadata": {},
   "cell_type": "markdown",
   "source": "LLM",
   "id": "370c03e0ca70b2dc"
  },
  {
   "metadata": {
    "ExecuteTime": {
     "end_time": "2025-10-25T17:01:05.652397Z",
     "start_time": "2025-10-25T17:01:05.646725Z"
    }
   },
   "cell_type": "code",
   "source": [
    "from langchain_openai import ChatOpenAI\n",
    "\n",
    "llm = ChatOpenAI(\n",
    "    base_url=BASE_URL,\n",
    "    api_key=LLM_API_KEY,\n",
    "    model=LLM_MODEL,\n",
    "    temperature=LLM_TEMPERATURE,\n",
    ")"
   ],
   "id": "9cb3e49925466b67",
   "outputs": [],
   "execution_count": 74
  },
  {
   "metadata": {},
   "cell_type": "markdown",
   "source": "Webseiten laden (gezielte URLs + User-Agent)",
   "id": "dce7eb174f6e4427"
  },
  {
   "metadata": {
    "ExecuteTime": {
     "end_time": "2025-10-25T17:01:06.059508Z",
     "start_time": "2025-10-25T17:01:05.664061Z"
    }
   },
   "cell_type": "code",
   "source": [
    "# Cell 3: Webseiten laden\n",
    "import os\n",
    "os.environ[\"USER_AGENT\"] = \"Mozilla/5.0 (MM-FAQ-Agent/1.0)\"\n",
    "\n",
    "from langchain_community.document_loaders import WebBaseLoader\n",
    "\n",
    "FAQ_URLS = [\n",
    "    # <- hier 2–5 echte FAQ-Unterseiten eintragen; Beispiele/Platzhalter:\n",
    "    \"https://faq-de.mediamarkt.ch/s/article/zahlungsmethoden-online\",   # Beispiel: Zahlung\n",
    "    \"https://faq-de.mediamarkt.ch/s/article/rueckgabe-umtausch\",        # Beispiel: Rückgabe\n",
    "]\n",
    "\n",
    "loader = WebBaseLoader(FAQ_URLS)\n",
    "docs = loader.load()\n",
    "\n",
    "print(f\"Geladene Seiten: {len(docs)}\")\n",
    "print(docs[0].page_content[:400])\n"
   ],
   "id": "f07b690d4ca4db71",
   "outputs": [
    {
     "name": "stdout",
     "output_type": "stream",
     "text": [
      "Geladene Seiten: 2\n",
      "\n",
      "\n",
      "\n",
      "There is a an error with your request\n",
      "\n",
      "\n",
      "\n",
      "There has been an error with your request.\n",
      "\n",
      "\n",
      "\n"
     ]
    }
   ],
   "execution_count": 75
  },
  {
   "metadata": {},
   "cell_type": "markdown",
   "source": "Splitten",
   "id": "bcba9940c9cb4b3c"
  },
  {
   "metadata": {
    "ExecuteTime": {
     "end_time": "2025-10-25T17:01:06.078799Z",
     "start_time": "2025-10-25T17:01:06.071869Z"
    }
   },
   "cell_type": "code",
   "source": [
    "# Cell 4: Split\n",
    "from langchain_text_splitters import RecursiveCharacterTextSplitter\n",
    "\n",
    "splitter = RecursiveCharacterTextSplitter(chunk_size=600, chunk_overlap=120)\n",
    "splits = splitter.split_documents(docs)\n",
    "\n",
    "len(splits), len(docs), sum(len(s.page_content) for s in splits) // max(1, len(splits))\n"
   ],
   "id": "3ef533d2dbcec1b",
   "outputs": [
    {
     "data": {
      "text/plain": [
       "(2, 2, 83)"
      ]
     },
     "execution_count": 76,
     "metadata": {},
     "output_type": "execute_result"
    }
   ],
   "execution_count": 76
  },
  {
   "metadata": {},
   "cell_type": "markdown",
   "source": "Embeddings + FAISS",
   "id": "33a41c9c1e834899"
  },
  {
   "metadata": {
    "ExecuteTime": {
     "end_time": "2025-10-25T17:01:08.240148Z",
     "start_time": "2025-10-25T17:01:06.098444Z"
    }
   },
   "cell_type": "code",
   "source": [
    "from langchain_huggingface import HuggingFaceEmbeddings\n",
    "from langchain_community.vectorstores import FAISS\n",
    "\n",
    "embeddings = HuggingFaceEmbeddings(model_name=\"sentence-transformers/all-mpnet-base-v2\")\n",
    "\n",
    "# FAISS direkt aus Dokumenten bauen\n",
    "vs = FAISS.from_documents(splits, embedding=embeddings)\n",
    "\n",
    "print(\"FAISS Vektoren:\", vs.index.ntotal)\n"
   ],
   "id": "c0307cc6df30e9ad",
   "outputs": [
    {
     "name": "stdout",
     "output_type": "stream",
     "text": [
      "FAISS Vektoren: 2\n"
     ]
    }
   ],
   "execution_count": 77
  },
  {
   "metadata": {},
   "cell_type": "markdown",
   "source": "Prompt/Safeguard",
   "id": "b63a8d297ed51b1a"
  },
  {
   "metadata": {
    "ExecuteTime": {
     "end_time": "2025-10-25T17:01:08.258178Z",
     "start_time": "2025-10-25T17:01:08.251401Z"
    }
   },
   "cell_type": "code",
   "source": [
    "\n",
    "import os\n",
    "from dotenv import load_dotenv\n",
    "load_dotenv()\n",
    "\n",
    "\n",
    "from langchain_core.prompts import ChatPromptTemplate\n",
    "\n",
    "SAFE_SYSTEM_PROMPT = \"\"\"\n",
    "Rolle & Aufgabe:\n",
    "Du bist eine freundliche und sachliche Kundenberaterin des MediaMarkt Onlineshops (Schweiz).\n",
    "Deine Aufgabe ist es, Kund:innen bei Fragen zu Produkten, Bestellungen, Rückgaben und allgemeinen Website-Themen zu helfen.\n",
    "\n",
    "Verhaltensregeln (sehr wichtig):\n",
    "1. Antworte ausschliesslich auf Basis der unten angegebenen Wissensquellen (Kontext).\n",
    "2. Wenn im Kontext keine passende Information steht, sag höflich:\n",
    "   \"Dazu habe ich leider keine Informationen. Bitte wende dich direkt an den MediaMarkt Kundendienst.\"\n",
    "3. Erfinde oder ergänze keine eigenen Fakten. Keine Spekulationen.\n",
    "4. Bei rechtlichen oder Garantie-Themen zitiere nur Textstellen aus dem Kontext.\n",
    "5. Antworte kurz, klar und freundlich auf Deutsch (Schweiz), maximal 3–5 Sätze.\n",
    "6. Verwende neutrale, respektvolle Sprache und duze die Kund:innen konsequent.\n",
    "7. Liste am Ende höchstens drei relevante Quellen unter der Überschrift \"Quellen:\" auf.\n",
    "\n",
    "Kontextinformationen:\n",
    "{context}\n",
    "\"\"\"\n",
    "\n",
    "prompt = ChatPromptTemplate.from_messages([\n",
    "    (\"system\", SAFE_SYSTEM_PROMPT),\n",
    "    (\"human\", \"{question}\")\n",
    "])\n"
   ],
   "id": "793fb2bed6a52c58",
   "outputs": [],
   "execution_count": 78
  },
  {
   "metadata": {},
   "cell_type": "markdown",
   "source": "Retriever + Antwort",
   "id": "30e42dc2b3d08883"
  },
  {
   "metadata": {
    "ExecuteTime": {
     "end_time": "2025-10-25T17:01:08.275416Z",
     "start_time": "2025-10-25T17:01:08.268848Z"
    }
   },
   "cell_type": "code",
   "source": [
    "def _retrieve(vs, query: str, k: int = 6):\n",
    "    retriever = vs.as_retriever(\n",
    "        search_type=\"mmr\",\n",
    "        search_kwargs={\"k\": k, \"fetch_k\": 24, \"lambda_mult\": 0.5},\n",
    "    )\n",
    "    # LC 0.1.x hat get_relevant_documents; LC 0.2.x nutzt invoke()\n",
    "    try:\n",
    "        return retriever.get_relevant_documents(query)  # 0.1.x\n",
    "    except AttributeError:\n",
    "        return retriever.invoke(query)                  # 0.2.x+\n",
    "\n",
    "def answer_with_rag(question: str, k: int = 6) -> str:\n",
    "    docs = _retrieve(vs, question, k=k)\n",
    "    if not docs:\n",
    "        return \"Dazu habe ich keine gesicherten Infos in den FAQs.\"\n",
    "\n",
    "    # Kontext + Quellen bauen\n",
    "    context = \"\\n\\n\".join(d.page_content for d in docs[:k])\n",
    "    seen, sources = set(), []\n",
    "    for d in docs:\n",
    "        src = d.metadata.get(\"source\")\n",
    "        if src and src not in seen:\n",
    "            sources.append(src); seen.add(src)\n",
    "        if len(sources) == 3:\n",
    "            break\n",
    "\n",
    "    # Prompt und LLM-Aufruf (achte auf den korrekten Import deiner Version)\n",
    "    try:\n",
    "        from langchain_core.prompts import ChatPromptTemplate\n",
    "    except ModuleNotFoundError:\n",
    "        from langchain_core.prompts import ChatPromptTemplate\n",
    "\n",
    "\n",
    "    SAFE_SYSTEM_PROMPT = (\n",
    "        \"Du bist Kundenberater:in für MediaMarkt CH.\\n\"\n",
    "        \"Antworte NUR auf Basis des Kontexts. Wenn nichts passt, sag das offen.\\n\"\n",
    "        \"Kurz & präzise; am Ende max. 3 Quellen unter 'Quellen:'.\\n\\n\"\n",
    "        \"Kontext:\\n{context}\"\n",
    "    )\n",
    "\n",
    "    prompt = ChatPromptTemplate.from_messages([\n",
    "        (\"system\", SAFE_SYSTEM_PROMPT),\n",
    "        (\"human\", \"{question}\")\n",
    "    ])\n",
    "    msgs = prompt.format_messages(context=context, question=question)\n",
    "    res = llm.invoke(msgs).content\n",
    "\n",
    "    if sources:\n",
    "        res += \"\\n\\nQuellen:\\n\" + \"\\n\".join(f\"- {s}\" for s in sources)\n",
    "    return res\n"
   ],
   "id": "f5aca2bdcc7a049a",
   "outputs": [],
   "execution_count": 79
  },
  {
   "metadata": {},
   "cell_type": "markdown",
   "source": "Testfragen",
   "id": "d50c600f85383c86"
  },
  {
   "metadata": {
    "ExecuteTime": {
     "end_time": "2025-10-25T17:01:08.868140Z",
     "start_time": "2025-10-25T17:01:08.291421Z"
    }
   },
   "cell_type": "code",
   "source": [
    "\n",
    "print(answer_with_rag(\"Wie lange ist die Rückgabefrist?\"))\n",
    "print()\n",
    "print(answer_with_rag(\"Welche Online-Zahlungsmethoden gibt es?\"))\n",
    "print()\n",
    "print(answer_with_rag(\"Was deckt die Versicherung/Garantie ab?\"))\n"
   ],
   "id": "b6c6add21328dd80",
   "outputs": [
    {
     "name": "stdout",
     "output_type": "stream",
     "text": [
      "Leider liegen mir im aktuellen Kontext keine Informationen zu den verfügbaren Zahlungsarten vor.  \n",
      "\n",
      "**Quellen:** –\n",
      "\n",
      "Quellen:\n",
      "- https://faq-de.mediamarkt.ch/s/article/rueckgabe-umtausch\n",
      "- https://faq-de.mediamarkt.ch/s/article/zahlungsmethoden-online\n"
     ]
    }
   ],
   "execution_count": 80
  }
 ],
 "metadata": {
  "kernelspec": {
   "display_name": "Python 3",
   "language": "python",
   "name": "python3"
  },
  "language_info": {
   "codemirror_mode": {
    "name": "ipython",
    "version": 2
   },
   "file_extension": ".py",
   "mimetype": "text/x-python",
   "name": "python",
   "nbconvert_exporter": "python",
   "pygments_lexer": "ipython2",
   "version": "2.7.6"
  }
 },
 "nbformat": 4,
 "nbformat_minor": 5
}
