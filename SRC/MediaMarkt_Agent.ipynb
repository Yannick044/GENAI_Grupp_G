{
 "cells": [
  {
   "cell_type": "code",
   "id": "initial_id",
   "metadata": {
    "collapsed": true,
    "ExecuteTime": {
     "end_time": "2025-10-26T19:27:37.405318Z",
     "start_time": "2025-10-26T19:27:37.400192Z"
    }
   },
   "source": [
    ""
   ],
   "outputs": [],
   "execution_count": null
  },
  {
   "metadata": {},
   "cell_type": "markdown",
   "source": "Setup & Keys",
   "id": "9f095d847a3f4dc6"
  },
  {
   "metadata": {
    "ExecuteTime": {
     "end_time": "2025-10-26T19:27:37.451783Z",
     "start_time": "2025-10-26T19:27:37.443974Z"
    }
   },
   "cell_type": "code",
   "source": [
    "# Cell 1: Setup\n",
    "from dotenv import load_dotenv\n",
    "import os\n",
    "\n",
    "load_dotenv()  # lädt .env\n",
    "\n",
    "BASE_URL = \"https://api.cerebras.ai/v1\"\n",
    "LLM_MODEL = \"gpt-oss-120b\"\n",
    "LLM_TEMPERATURE = 0.3\n",
    "LLM_API_KEY = os.environ[\"CEREBRAS_API_KEY\"]\n"
   ],
   "id": "fe696e7230c5d0e7",
   "outputs": [],
   "execution_count": 66
  },
  {
   "metadata": {},
   "cell_type": "markdown",
   "source": "LLM",
   "id": "370c03e0ca70b2dc"
  },
  {
   "metadata": {
    "ExecuteTime": {
     "end_time": "2025-10-26T19:27:37.483599Z",
     "start_time": "2025-10-26T19:27:37.475149Z"
    }
   },
   "cell_type": "code",
   "source": [
    "from langchain_openai import ChatOpenAI\n",
    "\n",
    "llm = ChatOpenAI(\n",
    "    base_url=BASE_URL,\n",
    "    api_key=LLM_API_KEY,\n",
    "    model=LLM_MODEL,\n",
    "    temperature=LLM_TEMPERATURE,\n",
    ")"
   ],
   "id": "9cb3e49925466b67",
   "outputs": [],
   "execution_count": 67
  },
  {
   "metadata": {},
   "cell_type": "markdown",
   "source": "Dokumente laden (gezielte URLs + User-Agent)",
   "id": "dce7eb174f6e4427"
  },
  {
   "metadata": {
    "ExecuteTime": {
     "end_time": "2025-10-26T19:27:42.021196Z",
     "start_time": "2025-10-26T19:27:37.506607Z"
    }
   },
   "cell_type": "code",
   "source": [
    "# Cell 3: Dokumente laden (PDF, HTML, MD, TXT)\n",
    "from pathlib import Path\n",
    "import re\n",
    "from bs4 import BeautifulSoup\n",
    "from langchain_community.document_loaders import PyPDFLoader, BSHTMLLoader, TextLoader\n",
    "from langchain_text_splitters import RecursiveCharacterTextSplitter\n",
    "from langchain_huggingface import HuggingFaceEmbeddings\n",
    "from langchain_community.vectorstores import FAISS\n",
    "from langchain_core.documents import Document\n",
    "\n",
    "# --- Einstellungen ---\n",
    "DATA_DIR = Path(\"../data\").resolve()\n",
    "RAW_DIR = DATA_DIR / \"raw\"\n",
    "EMBED_MODEL = \"sentence-transformers/all-MiniLM-L6-v2\"\n",
    "\n",
    "# --- Text säubern ---\n",
    "def clean_text(t: str) -> str:\n",
    "    t = t.replace(\"\\r\", \"\")\n",
    "    t = re.sub(r\"-\\n(\\w)\", r\"\\1\", t)      # Silbentrennungen entfernen\n",
    "    t = re.sub(r\"\\n{2,}\", \"\\n\\n\", t)      # doppelte Zeilenumbrüche\n",
    "    t = re.sub(r\"[ \\t]{2,}\", \" \", t)      # doppelte Leerzeichen\n",
    "    return t.strip()\n",
    "\n",
    "# --- Loader-Funktion ---\n",
    "def load_docs_from_raw():\n",
    "    assert RAW_DIR.exists(), f\"Ordner fehlt: {RAW_DIR.resolve()}\"\n",
    "    docs = []\n",
    "\n",
    "    for path in RAW_DIR.glob(\"*\"):\n",
    "        ext = path.suffix.lower()\n",
    "        if ext == \".pdf\":\n",
    "            try:\n",
    "                loader = PyPDFLoader(str(path))\n",
    "                pages = loader.load()\n",
    "            except Exception:\n",
    "                print(f\"⚠️ Fallback für PDF: {path.name}\")\n",
    "                continue\n",
    "            for d in pages:\n",
    "                d.metadata[\"source\"] = path.name\n",
    "                d.page_content = clean_text(d.page_content)\n",
    "                docs.append(d)\n",
    "\n",
    "        elif ext in (\".html\", \".htm\"):\n",
    "            try:\n",
    "                loader = BSHTMLLoader(str(path), open_encoding=\"utf-8\", bs_kwargs={\"features\": \"lxml\"})\n",
    "                page_docs = loader.load()\n",
    "            except Exception:\n",
    "                # Fallback – manuell mit BeautifulSoup\n",
    "                raw = path.read_bytes()\n",
    "                soup = BeautifulSoup(raw, \"html.parser\")\n",
    "                text = soup.get_text(\"\\n\")\n",
    "                page_docs = [Document(page_content=text, metadata={\"source\": path.name})]\n",
    "            for d in page_docs:\n",
    "                d.page_content = clean_text(d.page_content)\n",
    "                docs.append(d)\n",
    "\n",
    "        elif ext in (\".md\", \".txt\"):\n",
    "            loader = TextLoader(str(path), encoding=\"utf-8\")\n",
    "            page_docs = loader.load()\n",
    "            for d in page_docs:\n",
    "                d.metadata[\"source\"] = path.name\n",
    "                d.page_content = clean_text(d.page_content)\n",
    "                docs.append(d)\n",
    "\n",
    "        else:\n",
    "            print(f\"⚠️ Überspringe unbekanntes Format: {path.name}\")\n",
    "\n",
    "    print(f\"✅ {len(docs)} Dokumente geladen.\")\n",
    "    return docs\n",
    "\n",
    "\n",
    "# --- Split + Embeddings ---\n",
    "def build_chunks(docs, chunk_size=800, overlap=120):\n",
    "    splitter = RecursiveCharacterTextSplitter(chunk_size=chunk_size, chunk_overlap=overlap)\n",
    "    return splitter.split_documents(docs)\n",
    "\n",
    "def build_faiss(chunks):\n",
    "    embeddings = HuggingFaceEmbeddings(model_name=EMBED_MODEL)\n",
    "    return FAISS.from_documents(chunks, embedding=embeddings)\n",
    "\n",
    "# --- Lade alles ---\n",
    "docs = load_docs_from_raw()\n",
    "print(\"🔹 Beispieltext:\", docs[0].page_content[:300])\n",
    "splits = build_chunks(docs)\n",
    "vs = build_faiss(splits)\n",
    "print(\"FAISS Index erstellt mit:\", vs.index.ntotal, \"Vektoren\")\n"
   ],
   "id": "f07b690d4ca4db71",
   "outputs": [
    {
     "name": "stdout",
     "output_type": "stream",
     "text": [
      "✅ 12 Dokumente geladen.\n",
      "🔹 Beispieltext: Garantie und Versicherung | MediaMarkt\n",
      "\n",
      "Zum Hauptinhalt wechselnAlle KategorienWas suchst du?Mein MarktKein Markt ausgewähltlanguageSwitch.voiceOverDescription: DeutschdeMenüAngebotemyMediaMarktServiceGeschenkkarteMediaMagazinEigenmarkenMarkenshops% Outlet %Shopping CardSmartbarJobsHilfeAlle Kategor\n",
      "FAISS Index erstellt mit: 94 Vektoren\n"
     ]
    }
   ],
   "execution_count": 68
  },
  {
   "metadata": {
    "ExecuteTime": {
     "end_time": "2025-10-26T19:27:42.036318Z",
     "start_time": "2025-10-26T19:27:42.031688Z"
    }
   },
   "cell_type": "code",
   "source": "",
   "id": "cae9684151a31013",
   "outputs": [],
   "execution_count": null
  },
  {
   "metadata": {},
   "cell_type": "markdown",
   "source": "Splitten",
   "id": "bcba9940c9cb4b3c"
  },
  {
   "metadata": {
    "ExecuteTime": {
     "end_time": "2025-10-26T19:27:42.060649Z",
     "start_time": "2025-10-26T19:27:42.049020Z"
    }
   },
   "cell_type": "code",
   "source": [
    "# Cell 4: Split\n",
    "from langchain_text_splitters import RecursiveCharacterTextSplitter\n",
    "\n",
    "splitter = RecursiveCharacterTextSplitter(chunk_size=600, chunk_overlap=120)\n",
    "splits = splitter.split_documents(docs)\n",
    "\n",
    "len(splits), len(docs), sum(len(s.page_content) for s in splits) // max(1, len(splits))\n"
   ],
   "id": "3ef533d2dbcec1b",
   "outputs": [
    {
     "data": {
      "text/plain": [
       "(129, 12, 528)"
      ]
     },
     "execution_count": 69,
     "metadata": {},
     "output_type": "execute_result"
    }
   ],
   "execution_count": 69
  },
  {
   "metadata": {},
   "cell_type": "markdown",
   "source": "Embeddings + FAISS",
   "id": "33a41c9c1e834899"
  },
  {
   "metadata": {
    "ExecuteTime": {
     "end_time": "2025-10-26T19:27:54.613490Z",
     "start_time": "2025-10-26T19:27:42.083020Z"
    }
   },
   "cell_type": "code",
   "source": [
    "from langchain_huggingface import HuggingFaceEmbeddings\n",
    "from langchain_community.vectorstores import FAISS\n",
    "\n",
    "embeddings = HuggingFaceEmbeddings(model_name=\"sentence-transformers/all-mpnet-base-v2\")\n",
    "\n",
    "# FAISS direkt aus Dokumenten bauen\n",
    "vs = FAISS.from_documents(splits, embedding=embeddings)\n",
    "\n",
    "print(\"FAISS Vektoren:\", vs.index.ntotal)\n"
   ],
   "id": "c0307cc6df30e9ad",
   "outputs": [
    {
     "name": "stdout",
     "output_type": "stream",
     "text": [
      "FAISS Vektoren: 129\n"
     ]
    }
   ],
   "execution_count": 70
  },
  {
   "metadata": {},
   "cell_type": "markdown",
   "source": "Prompt/Safeguard",
   "id": "b63a8d297ed51b1a"
  },
  {
   "metadata": {
    "ExecuteTime": {
     "end_time": "2025-10-26T19:27:54.633100Z",
     "start_time": "2025-10-26T19:27:54.626861Z"
    }
   },
   "cell_type": "code",
   "source": [
    "\n",
    "import os\n",
    "from dotenv import load_dotenv\n",
    "load_dotenv()\n",
    "\n",
    "\n",
    "from langchain_core.prompts import ChatPromptTemplate\n",
    "\n",
    "SAFE_SYSTEM_PROMPT = \"\"\"\n",
    "Rolle & Aufgabe:\n",
    "Du bist eine freundliche und sachliche Kundenberaterin des MediaMarkt Onlineshops (Schweiz).\n",
    "Deine Aufgabe ist es, Kund:innen bei Fragen zu Produkten, Bestellungen, Rückgaben und allgemeinen Website-Themen zu helfen.\n",
    "\n",
    "Verhaltensregeln (sehr wichtig):\n",
    "1. Antworte ausschliesslich auf Basis der unten angegebenen Wissensquellen (Kontext).\n",
    "2. Wenn im Kontext keine passende Information steht, sag höflich:\n",
    "   \"Dazu habe ich leider keine Informationen. Bitte wende dich direkt an den MediaMarkt Kundendienst.\"\n",
    "3. Erfinde oder ergänze keine eigenen Fakten. Keine Spekulationen.\n",
    "4. Bei rechtlichen oder Garantie-Themen zitiere nur Textstellen aus dem Kontext.\n",
    "5. Antworte kurz, klar und freundlich auf Deutsch (Schweiz), maximal 3–5 Sätze.\n",
    "6. Verwende neutrale, respektvolle Sprache und duze die Kund:innen konsequent.\n",
    "7. Liste am Ende höchstens drei relevante Quellen unter der Überschrift \"Quellen:\" auf.\n",
    "\n",
    "Kontextinformationen:\n",
    "{context}\n",
    "\"\"\"\n",
    "\n",
    "prompt = ChatPromptTemplate.from_messages([\n",
    "    (\"system\", SAFE_SYSTEM_PROMPT),\n",
    "    (\"human\", \"{question}\")\n",
    "])\n"
   ],
   "id": "793fb2bed6a52c58",
   "outputs": [],
   "execution_count": 71
  },
  {
   "metadata": {},
   "cell_type": "markdown",
   "source": "Retriever + Antwort",
   "id": "30e42dc2b3d08883"
  },
  {
   "metadata": {
    "ExecuteTime": {
     "end_time": "2025-10-26T19:27:54.657078Z",
     "start_time": "2025-10-26T19:27:54.648932Z"
    }
   },
   "cell_type": "code",
   "source": [
    "def _retrieve(vs, query: str, k: int = 6):\n",
    "    retriever = vs.as_retriever(\n",
    "        search_type=\"mmr\",\n",
    "        search_kwargs={\"k\": k, \"fetch_k\": 24, \"lambda_mult\": 0.5},\n",
    "    )\n",
    "    # LC 0.1.x hat get_relevant_documents; LC 0.2.x nutzt invoke()\n",
    "    try:\n",
    "        return retriever.get_relevant_documents(query)  # 0.1.x\n",
    "    except AttributeError:\n",
    "        return retriever.invoke(query)                  # 0.2.x+\n",
    "\n",
    "def answer_with_rag(question: str, k: int = 6) -> str:\n",
    "    docs = _retrieve(vs, question, k=k)\n",
    "    if not docs:\n",
    "        return \"Dazu habe ich keine gesicherten Infos in den FAQs.\"\n",
    "\n",
    "    # Kontext + Quellen bauen\n",
    "    context = \"\\n\\n\".join(d.page_content for d in docs[:k])\n",
    "    seen, sources = set(), []\n",
    "    for d in docs:\n",
    "        src = d.metadata.get(\"source\")\n",
    "        if src and src not in seen:\n",
    "            sources.append(src); seen.add(src)\n",
    "        if len(sources) == 3:\n",
    "            break\n",
    "\n",
    "    # Prompt und LLM-Aufruf (achte auf den korrekten Import deiner Version)\n",
    "    try:\n",
    "        from langchain_core.prompts import ChatPromptTemplate\n",
    "    except ModuleNotFoundError:\n",
    "        from langchain_core.prompts import ChatPromptTemplate\n",
    "\n",
    "\n",
    "    SAFE_SYSTEM_PROMPT = (\n",
    "        \"Du bist Kundenberater:in für MediaMarkt Onlineshop CH.\\n\"\n",
    "        \"Antworte NUR auf Basis des Kontexts. Wenn nichts passt, sag das offen.\\n\"\n",
    "        \"Erfinde nichts; gib keine rechtlichen Bewertungen. Zitiere bei Garantie/AGB knappe Textstellen.\\n\"\n",
    "        \"Kurz & präzise; am Ende max. 3 Quellen unter 'Quellen:'.\\n\\n\"\n",
    "        \"Kontext:\\n{context}\"\n",
    "    )\n",
    "\n",
    "    prompt = ChatPromptTemplate.from_messages([\n",
    "        (\"system\", SAFE_SYSTEM_PROMPT),\n",
    "        (\"human\", \"{question}\")\n",
    "    ])\n",
    "    msgs = prompt.format_messages(context=context, question=question)\n",
    "    res = llm.invoke(msgs).content\n",
    "\n",
    "    if sources:\n",
    "        res += \"\\n\\nQuellen:\\n\" + \"\\n\".join(f\"- {s}\" for s in sources)\n",
    "    return res\n"
   ],
   "id": "f5aca2bdcc7a049a",
   "outputs": [],
   "execution_count": 72
  },
  {
   "metadata": {},
   "cell_type": "markdown",
   "source": "Testfragen",
   "id": "d50c600f85383c86"
  },
  {
   "metadata": {
    "ExecuteTime": {
     "end_time": "2025-10-26T19:27:56.261538Z",
     "start_time": "2025-10-26T19:27:54.669635Z"
    }
   },
   "cell_type": "code",
   "source": "print(answer_with_rag(\"Wie lange ist die Retourenfrist?\"))\n",
   "id": "b6c6add21328dd80",
   "outputs": [
    {
     "name": "stdout",
     "output_type": "stream",
     "text": [
      "Die reguläre Retourenfrist beträgt **14 Tage** ab Erhalt der Ware.  \n",
      "Für **MediaMarkt CLUB‑Mitglieder** gilt die doppelte Frist, also **28 Tage**.  \n",
      "\n",
      "**Quellen:**  \n",
      "- „innerhalb der 14‑tägigen Retourenfrist … (für CLUB Mitglieder doppelt so lange Umtauschfrist)“【1】\n",
      "\n",
      "Quellen:\n",
      "- C:\\Users\\simon\\OneDrive\\FH\\BAI\\GENAI_Grupp_G\\data\\raw\\retouren.html\n",
      "- C:\\Users\\simon\\OneDrive\\FH\\BAI\\GENAI_Grupp_G\\data\\raw\\garantie_und_versicherung _ MediaMarkt.html\n",
      "- C:\\Users\\simon\\OneDrive\\FH\\BAI\\GENAI_Grupp_G\\data\\raw\\Zahlungsarten _ MediaMarkt.html\n"
     ]
    }
   ],
   "execution_count": 73
  },
  {
   "metadata": {
    "ExecuteTime": {
     "end_time": "2025-10-26T19:28:05.922669Z",
     "start_time": "2025-10-26T19:27:56.296928Z"
    }
   },
   "cell_type": "code",
   "source": "print(answer_with_rag(\"Welche Online-Zahlungsmethoden gibt es?\"))",
   "id": "43edd84342794424",
   "outputs": [
    {
     "name": "stdout",
     "output_type": "stream",
     "text": [
      "Im MediaMarkt‑Onlineshop CH stehen dir folgende Online‑Zahlungsoptionen zur Verfügung:\n",
      "\n",
      "- **Kreditkarte**  \n",
      "- **PayPal**  \n",
      "- **Twint**  \n",
      "- **Google Pay**  \n",
      "\n",
      "Zusätzlich kannst du im Markt bezahlen oder per Rechnung kaufen, doch die genannten vier Optionen sind die reinen Online‑Zahlungsmethoden【1】.\n",
      "\n",
      "**Quellen:**  \n",
      "1. „…ob du per Kreditkarte, PayPal, Twint, Bezahlung im Markt, Kauf auf Rechnung oder mit einem Dienstleister wie Google Pay bezahlen möchtest …“ (Zahlungsarten‑Seite)\n",
      "\n",
      "Quellen:\n",
      "- zahlungsarten _ mediamarkt.pdf\n",
      "- C:\\Users\\simon\\OneDrive\\FH\\BAI\\GENAI_Grupp_G\\data\\raw\\Zahlungsarten _ MediaMarkt.html\n",
      "- C:\\Users\\simon\\OneDrive\\FH\\BAI\\GENAI_Grupp_G\\data\\raw\\garantie_und_versicherung _ MediaMarkt.html\n"
     ]
    }
   ],
   "execution_count": 74
  },
  {
   "metadata": {
    "ExecuteTime": {
     "end_time": "2025-10-26T19:28:08.243243Z",
     "start_time": "2025-10-26T19:28:05.951592Z"
    }
   },
   "cell_type": "code",
   "source": "print(answer_with_rag(\"Wie lange gilt die Herstellergarantie bei MediaMarkt?\"))",
   "id": "7ed8bdf2a01c17c7",
   "outputs": [
    {
     "name": "stdout",
     "output_type": "stream",
     "text": [
      "Die im bereitgestellten Informationen ist keine Angabe zur Dauer der Herstellergarantie bei MediaMarkt enthalten.  \n",
      "\n",
      "**Quellen:**  \n",
      "- „Garantie und Versicherung | MediaMarkt“ (Übersichts‑Seite, kein konkreter Hinweis auf Garantiezeit)  \n",
      "\n",
      "Ohne weitere Angaben kann ich die genaue Gültigkeitsdauer nicht nennen.\n",
      "\n",
      "Quellen:\n",
      "- C:\\Users\\simon\\OneDrive\\FH\\BAI\\GENAI_Grupp_G\\data\\raw\\garantie_und_versicherung _ MediaMarkt.html\n",
      "- C:\\Users\\simon\\OneDrive\\FH\\BAI\\GENAI_Grupp_G\\data\\raw\\stornieren_&_zurückgeben.html\n",
      "- C:\\Users\\simon\\OneDrive\\FH\\BAI\\GENAI_Grupp_G\\data\\raw\\Zahlungsarten _ MediaMarkt.html\n"
     ]
    }
   ],
   "execution_count": 75
  },
  {
   "metadata": {
    "ExecuteTime": {
     "end_time": "2025-10-26T19:28:12.546977Z",
     "start_time": "2025-10-26T19:28:08.293929Z"
    }
   },
   "cell_type": "code",
   "source": "print(answer_with_rag(\"Wie retourniere ich ein Produkt?\"))",
   "id": "471615b9bbe578b4",
   "outputs": [
    {
     "name": "stdout",
     "output_type": "stream",
     "text": [
      "**Rückgabe eines Produkts**\n",
      "\n",
      "1. **Vor‑Ort‑Retoure im MediaMarkt (empfohlen)**  \n",
      "   - Besonders nötig, wenn die Originalverpackung bereits geöffnet wurde.  \n",
      "   - Gehe mit dem Produkt und dem Kaufbeleg zum Kundenservice des nächsten MediaMarkt‑Marktes.  \n",
      "\n",
      "2. **Rücksendung per Post**  \n",
      "   - Für ungeöffnete, originalverpackte Artikel kannst du das Produkt per Post an uns zurücksenden.  \n",
      "   - Nutze das Rücksendeformular aus deiner Bestellbestätigung und lege das Paket gut verpackt bei.  \n",
      "\n",
      "3. **Abholung für Reparatur (falls nötig)**  \n",
      "   - Bei defekten Geräten kann das Gerät kostenlos bei dir zuhause abgeholt, repariert und zurückgebracht werden. Ohne Garantieverlängerung kostet die Ab‑ und Zustellung CHF 158.  \n",
      "\n",
      "**Wichtig:** Das Produkt muss sich in einwandfreiem Zustand (ungeöffnet oder unbenutzt) befinden und die Originalverpackung enthalten, sonst ist die Vor‑Ort‑Retoure zwingend.  \n",
      "\n",
      "**Quellen**  \n",
      "- „Bei der Rückgabe eines Produkts stehen dir folgende Möglichkeiten zur Verfügung: a) Vor‑Ort‑Retoure im MediaMarkt (empfohlen; notwendig bei geöffneter Originalverpackung)…“  \n",
      "- „Defekte und generell nicht retournierbare Produkte werden zurückgeschickt…“  \n",
      "\n",
      "---  \n",
      "**Kontakt für Rückfragen**  \n",
      "E‑Mail | 0848 544 455 (Mo‑Fr 09:00‑19:00, Sa 09:00‑17:00)  \n",
      "\n",
      "Quellen:\n",
      "- C:\\Users\\simon\\OneDrive\\FH\\BAI\\GENAI_Grupp_G\\data\\raw\\stornieren_&_zurückgeben.html\n",
      "- C:\\Users\\simon\\OneDrive\\FH\\BAI\\GENAI_Grupp_G\\data\\raw\\retouren.html\n",
      "- C:\\Users\\simon\\OneDrive\\FH\\BAI\\GENAI_Grupp_G\\data\\raw\\garantie_und_versicherung _ MediaMarkt.html\n"
     ]
    }
   ],
   "execution_count": 76
  },
  {
   "metadata": {
    "ExecuteTime": {
     "end_time": "2025-10-26T19:28:18.480148Z",
     "start_time": "2025-10-26T19:28:12.581176Z"
    }
   },
   "cell_type": "code",
   "source": "print(answer_with_rag(\"Wie werde ich Geschäftskunde?\"))",
   "id": "233807f65fc6bb38",
   "outputs": [
    {
     "name": "stdout",
     "output_type": "stream",
     "text": [
      "Um Geschäftskunde bei MediaMarkt CH zu werden, nutzen Sie unser B2B‑Portal. Dort finden Sie „massgeschneiderte Lösungen und zahlreiche Vorteile für B2B“ und können ein Kundenkonto anlegen bzw. Kontakt zu unserem Vertrieb aufnehmen. Alle Details und das Anmeldeformular finden Sie unter dem Hinweis **„Alle Infos findest du hier“** im Bereich „Wie werde ich Geschäftskunde?“.\n",
      "\n",
      "**Quellen**  \n",
      "- MediaMarkt CH – „Wie werde ich Geschäftskunde? Wir bieten massgeschneiderte Lösungen und zahlreiche Vorteile für B2B an. Alle Infos findest du hier.“\n",
      "\n",
      "Quellen:\n",
      "- C:\\Users\\simon\\OneDrive\\FH\\BAI\\GENAI_Grupp_G\\data\\raw\\informieren_&_kaufen.html\n",
      "- C:\\Users\\simon\\OneDrive\\FH\\BAI\\GENAI_Grupp_G\\data\\raw\\garantie_und_versicherung _ MediaMarkt.html\n",
      "- zahlungsarten _ mediamarkt.pdf\n"
     ]
    }
   ],
   "execution_count": 77
  },
  {
   "metadata": {
    "ExecuteTime": {
     "end_time": "2025-10-26T19:28:20.733189Z",
     "start_time": "2025-10-26T19:28:18.508423Z"
    }
   },
   "cell_type": "code",
   "source": "print(answer_with_rag(\"Ist Interdiscount besser als Mediamarkt?\"))",
   "id": "8fe2dc3ff8f93e16",
   "outputs": [
    {
     "name": "stdout",
     "output_type": "stream",
     "text": [
      "Ich habe im bereitgestellten Kontext keine Informationen zu Interdiscount, daher kann ich keinen Vergleich zu MediaMarkt ziehen.\n",
      "\n",
      "**Quellen:**  \n",
      "- (Keine relevanten Quellen im Kontext)\n",
      "\n",
      "Quellen:\n",
      "- C:\\Users\\simon\\OneDrive\\FH\\BAI\\GENAI_Grupp_G\\data\\raw\\garantie_und_versicherung _ MediaMarkt.html\n",
      "- C:\\Users\\simon\\OneDrive\\FH\\BAI\\GENAI_Grupp_G\\data\\raw\\Zahlungsarten _ MediaMarkt.html\n",
      "- C:\\Users\\simon\\OneDrive\\FH\\BAI\\GENAI_Grupp_G\\data\\raw\\informieren_&_kaufen.html\n"
     ]
    }
   ],
   "execution_count": 78
  },
  {
   "metadata": {
    "ExecuteTime": {
     "end_time": "2025-10-26T19:28:20.786392Z",
     "start_time": "2025-10-26T19:28:20.781213Z"
    }
   },
   "cell_type": "code",
   "source": "",
   "id": "ee6439559c200468",
   "outputs": [],
   "execution_count": null
  }
 ],
 "metadata": {
  "kernelspec": {
   "display_name": "Python 3",
   "language": "python",
   "name": "python3"
  },
  "language_info": {
   "codemirror_mode": {
    "name": "ipython",
    "version": 2
   },
   "file_extension": ".py",
   "mimetype": "text/x-python",
   "name": "python",
   "nbconvert_exporter": "python",
   "pygments_lexer": "ipython2",
   "version": "2.7.6"
  }
 },
 "nbformat": 4,
 "nbformat_minor": 5
}
