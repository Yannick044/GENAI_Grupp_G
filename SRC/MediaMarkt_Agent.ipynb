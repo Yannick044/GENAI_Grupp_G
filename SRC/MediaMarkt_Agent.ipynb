{
 "cells": [
  {
   "cell_type": "code",
   "id": "initial_id",
   "metadata": {
    "collapsed": true,
    "ExecuteTime": {
     "end_time": "2025-10-26T22:29:19.414110Z",
     "start_time": "2025-10-26T22:29:19.407032Z"
    }
   },
   "source": [
    ""
   ],
   "outputs": [],
   "execution_count": null
  },
  {
   "metadata": {},
   "cell_type": "markdown",
   "source": "Setup & Keys",
   "id": "9f095d847a3f4dc6"
  },
  {
   "metadata": {
    "ExecuteTime": {
     "end_time": "2025-10-26T22:29:19.366724600Z",
     "start_time": "2025-10-26T22:15:46.068788Z"
    }
   },
   "cell_type": "code",
   "source": [
    "# Cell 1: Setup\n",
    "from dotenv import load_dotenv\n",
    "import os\n",
    "\n",
    "load_dotenv()  # lädt .env\n",
    "\n",
    "BASE_URL = \"https://api.cerebras.ai/v1\"\n",
    "LLM_MODEL = \"gpt-oss-120b\"\n",
    "LLM_TEMPERATURE = 0.3\n",
    "LLM_API_KEY = os.environ[\"CEREBRAS_API_KEY\"]\n"
   ],
   "id": "fe696e7230c5d0e7",
   "outputs": [],
   "execution_count": 1
  },
  {
   "metadata": {},
   "cell_type": "markdown",
   "source": "LLM",
   "id": "370c03e0ca70b2dc"
  },
  {
   "metadata": {
    "ExecuteTime": {
     "end_time": "2025-10-26T22:29:19.373686300Z",
     "start_time": "2025-10-26T22:15:55.027992Z"
    }
   },
   "cell_type": "code",
   "source": [
    "from langchain_openai import ChatOpenAI\n",
    "\n",
    "llm = ChatOpenAI(\n",
    "    base_url=BASE_URL,\n",
    "    api_key=LLM_API_KEY,\n",
    "    model=LLM_MODEL,\n",
    "    temperature=LLM_TEMPERATURE,\n",
    ")"
   ],
   "id": "9cb3e49925466b67",
   "outputs": [],
   "execution_count": 3
  },
  {
   "metadata": {},
   "cell_type": "markdown",
   "source": "Dokumente laden (gezielte URLs + User-Agent)",
   "id": "dce7eb174f6e4427"
  },
  {
   "metadata": {
    "ExecuteTime": {
     "end_time": "2025-10-26T22:29:19.374698200Z",
     "start_time": "2025-10-26T22:15:56.660403Z"
    }
   },
   "cell_type": "code",
   "source": [
    "# Cell 3: Dokumente laden (PDF, HTML, MD, TXT)\n",
    "from pathlib import Path\n",
    "import re\n",
    "from bs4 import BeautifulSoup\n",
    "from langchain_community.document_loaders import PyPDFLoader, BSHTMLLoader, TextLoader\n",
    "from langchain_text_splitters import RecursiveCharacterTextSplitter\n",
    "from langchain_huggingface import HuggingFaceEmbeddings\n",
    "from langchain_community.vectorstores import FAISS\n",
    "from langchain_core.documents import Document\n",
    "\n",
    "# --- Einstellungen ---\n",
    "DATA_DIR = Path(\"../data\").resolve()\n",
    "RAW_DIR = DATA_DIR / \"raw\"\n",
    "EMBED_MODEL = \"sentence-transformers/all-MiniLM-L6-v2\"\n",
    "\n",
    "# --- Text säubern ---\n",
    "def clean_text(t: str) -> str:\n",
    "    t = t.replace(\"\\r\", \"\")\n",
    "    t = re.sub(r\"-\\n(\\w)\", r\"\\1\", t)      # Silbentrennungen entfernen\n",
    "    t = re.sub(r\"\\n{2,}\", \"\\n\\n\", t)      # doppelte Zeilenumbrüche\n",
    "    t = re.sub(r\"[ \\t]{2,}\", \" \", t)      # doppelte Leerzeichen\n",
    "    return t.strip()\n",
    "\n",
    "# --- Loader-Funktion ---\n",
    "def load_docs_from_raw():\n",
    "    assert RAW_DIR.exists(), f\"Ordner fehlt: {RAW_DIR.resolve()}\"\n",
    "    docs = []\n",
    "\n",
    "    for path in RAW_DIR.glob(\"*\"):\n",
    "        ext = path.suffix.lower()\n",
    "        if ext == \".pdf\":\n",
    "            try:\n",
    "                loader = PyPDFLoader(str(path))\n",
    "                pages = loader.load()\n",
    "            except Exception:\n",
    "                print(f\"⚠️ Fallback für PDF: {path.name}\")\n",
    "                continue\n",
    "            for d in pages:\n",
    "                d.metadata[\"source\"] = path.name\n",
    "                d.page_content = clean_text(d.page_content)\n",
    "                docs.append(d)\n",
    "\n",
    "        elif ext in (\".html\", \".htm\"):\n",
    "            try:\n",
    "                loader = BSHTMLLoader(str(path), open_encoding=\"utf-8\", bs_kwargs={\"features\": \"lxml\"})\n",
    "                page_docs = loader.load()\n",
    "            except Exception:\n",
    "                # Fallback – manuell mit BeautifulSoup\n",
    "                raw = path.read_bytes()\n",
    "                soup = BeautifulSoup(raw, \"html.parser\")\n",
    "                text = soup.get_text(\"\\n\")\n",
    "                page_docs = [Document(page_content=text, metadata={\"source\": path.name})]\n",
    "            for d in page_docs:\n",
    "                d.page_content = clean_text(d.page_content)\n",
    "                docs.append(d)\n",
    "\n",
    "        elif ext in (\".md\", \".txt\"):\n",
    "            loader = TextLoader(str(path), encoding=\"utf-8\")\n",
    "            page_docs = loader.load()\n",
    "            for d in page_docs:\n",
    "                d.metadata[\"source\"] = path.name\n",
    "                d.page_content = clean_text(d.page_content)\n",
    "                docs.append(d)\n",
    "\n",
    "        else:\n",
    "            print(f\"⚠️ Überspringe unbekanntes Format: {path.name}\")\n",
    "\n",
    "    print(f\"✅ {len(docs)} Dokumente geladen.\")\n",
    "    return docs\n",
    "\n",
    "\n",
    "# --- Split + Embeddings ---\n",
    "def build_chunks(docs, chunk_size=800, overlap=120):\n",
    "    splitter = RecursiveCharacterTextSplitter(chunk_size=chunk_size, chunk_overlap=overlap)\n",
    "    return splitter.split_documents(docs)\n",
    "\n",
    "def build_faiss(chunks):\n",
    "    embeddings = HuggingFaceEmbeddings(model_name=EMBED_MODEL)\n",
    "    return FAISS.from_documents(chunks, embedding=embeddings)\n",
    "\n",
    "# --- Lade alles ---\n",
    "docs = load_docs_from_raw()\n",
    "print(\"🔹 Beispieltext:\", docs[0].page_content[:300])\n",
    "splits = build_chunks(docs)\n",
    "vs = build_faiss(splits)\n",
    "print(\"FAISS Index erstellt mit:\", vs.index.ntotal, \"Vektoren\")\n"
   ],
   "id": "f07b690d4ca4db71",
   "outputs": [
    {
     "name": "stdout",
     "output_type": "stream",
     "text": [
      "✅ 3 Dokumente geladen.\n",
      "🔹 Beispieltext: Garantie und Versicherung | MediaMarkt\n",
      "\n",
      "Zum Hauptinhalt wechselnAlle KategorienWas suchst du?Mein MarktKein Markt ausgewähltlanguageSwitch.voiceOverDescription: DeutschdeMenüAngebotemyMediaMarktServiceGeschenkkarteMediaMagazinEigenmarkenMarkenshops% Outlet %Shopping CardSmartbarJobsHilfeAlle Kategor\n",
      "FAISS Index erstellt mit: 54 Vektoren\n"
     ]
    }
   ],
   "execution_count": 4
  },
  {
   "metadata": {
    "ExecuteTime": {
     "end_time": "2025-10-26T22:29:19.374698200Z",
     "start_time": "2025-10-26T19:27:42.031688Z"
    }
   },
   "cell_type": "code",
   "source": "",
   "id": "cae9684151a31013",
   "outputs": [],
   "execution_count": null
  },
  {
   "metadata": {},
   "cell_type": "markdown",
   "source": "Splitten",
   "id": "bcba9940c9cb4b3c"
  },
  {
   "metadata": {
    "ExecuteTime": {
     "end_time": "2025-10-26T22:29:19.389137600Z",
     "start_time": "2025-10-26T22:16:05.019455Z"
    }
   },
   "cell_type": "code",
   "source": [
    "# Cell 4: Split\n",
    "from langchain_text_splitters import RecursiveCharacterTextSplitter\n",
    "\n",
    "splitter = RecursiveCharacterTextSplitter(chunk_size=600, chunk_overlap=120)\n",
    "splits = splitter.split_documents(docs)\n",
    "\n",
    "len(splits), len(docs), sum(len(s.page_content) for s in splits) // max(1, len(splits))\n"
   ],
   "id": "3ef533d2dbcec1b",
   "outputs": [
    {
     "data": {
      "text/plain": [
       "(73, 3, 543)"
      ]
     },
     "execution_count": 5,
     "metadata": {},
     "output_type": "execute_result"
    }
   ],
   "execution_count": 5
  },
  {
   "metadata": {},
   "cell_type": "markdown",
   "source": "Embeddings + FAISS",
   "id": "33a41c9c1e834899"
  },
  {
   "metadata": {
    "ExecuteTime": {
     "end_time": "2025-10-26T22:29:19.392223500Z",
     "start_time": "2025-10-26T22:16:06.541700Z"
    }
   },
   "cell_type": "code",
   "source": [
    "from langchain_huggingface import HuggingFaceEmbeddings\n",
    "from langchain_community.vectorstores import FAISS\n",
    "\n",
    "embeddings = HuggingFaceEmbeddings(model_name=\"sentence-transformers/all-mpnet-base-v2\")\n",
    "\n",
    "# FAISS direkt aus Dokumenten bauen\n",
    "vs = FAISS.from_documents(splits, embedding=embeddings)\n",
    "\n",
    "print(\"FAISS Vektoren:\", vs.index.ntotal)\n"
   ],
   "id": "c0307cc6df30e9ad",
   "outputs": [
    {
     "name": "stdout",
     "output_type": "stream",
     "text": [
      "FAISS Vektoren: 73\n"
     ]
    }
   ],
   "execution_count": 6
  },
  {
   "metadata": {},
   "cell_type": "markdown",
   "source": "Prompt/Safeguard",
   "id": "b63a8d297ed51b1a"
  },
  {
   "metadata": {
    "ExecuteTime": {
     "end_time": "2025-10-26T22:29:19.392223500Z",
     "start_time": "2025-10-26T22:16:19.973266Z"
    }
   },
   "cell_type": "code",
   "source": [
    "\n",
    "import os\n",
    "from dotenv import load_dotenv\n",
    "load_dotenv()\n",
    "\n",
    "\n",
    "from langchain_core.prompts import ChatPromptTemplate\n",
    "\n",
    "SAFE_SYSTEM_PROMPT = \"\"\"\n",
    "Rolle & Aufgabe:\n",
    "Du bist eine freundliche und sachliche Kundenberaterin des MediaMarkt Onlineshops (Schweiz).\n",
    "Deine Aufgabe ist es, Kund:innen bei Fragen zu Produkten, Bestellungen, Rückgaben und allgemeinen Website-Themen zu helfen.\n",
    "\n",
    "Verhaltensregeln (sehr wichtig):\n",
    "1. Antworte ausschliesslich auf Basis der unten angegebenen Wissensquellen (Kontext).\n",
    "2. Wenn im Kontext keine passende Information steht, sag höflich:\n",
    "   \"Dazu habe ich leider keine Informationen. Bitte wende dich direkt an den MediaMarkt Kundendienst.\"\n",
    "3. Erfinde oder ergänze keine eigenen Fakten. Keine Spekulationen.\n",
    "4. Bei rechtlichen oder Garantie-Themen zitiere nur Textstellen aus dem Kontext.\n",
    "5. Antworte kurz, klar und freundlich auf Deutsch (Schweiz), maximal 3–5 Sätze.\n",
    "6. Verwende neutrale, respektvolle Sprache und duze die Kund:innen konsequent.\n",
    "7. Liste am Ende höchstens drei relevante Quellen unter der Überschrift \"Quellen:\" auf.\n",
    "\n",
    "Kontextinformationen:\n",
    "{context}\n",
    "\"\"\"\n",
    "\n",
    "prompt = ChatPromptTemplate.from_messages([\n",
    "    (\"system\", SAFE_SYSTEM_PROMPT),\n",
    "    (\"human\", \"{question}\")\n",
    "])\n"
   ],
   "id": "793fb2bed6a52c58",
   "outputs": [],
   "execution_count": 7
  },
  {
   "metadata": {},
   "cell_type": "markdown",
   "source": "Retriever + Antwort",
   "id": "30e42dc2b3d08883"
  },
  {
   "metadata": {
    "ExecuteTime": {
     "end_time": "2025-10-26T22:29:19.392223500Z",
     "start_time": "2025-10-26T22:16:22.041679Z"
    }
   },
   "cell_type": "code",
   "source": [
    "def _retrieve(vs, query: str, k: int = 6):\n",
    "    retriever = vs.as_retriever(\n",
    "        search_type=\"mmr\",\n",
    "        search_kwargs={\"k\": k, \"fetch_k\": 24, \"lambda_mult\": 0.5},\n",
    "    )\n",
    "    # LC 0.1.x hat get_relevant_documents; LC 0.2.x nutzt invoke()\n",
    "    try:\n",
    "        return retriever.get_relevant_documents(query)  # 0.1.x\n",
    "    except AttributeError:\n",
    "        return retriever.invoke(query)                  # 0.2.x+\n",
    "\n",
    "def answer_with_rag(question: str, k: int = 6) -> str:\n",
    "    docs = _retrieve(vs, question, k=k)\n",
    "    if not docs:\n",
    "        return \"Dazu habe ich keine gesicherten Infos in den FAQs.\"\n",
    "\n",
    "    # Kontext + Quellen bauen\n",
    "    context = \"\\n\\n\".join(d.page_content for d in docs[:k])\n",
    "    seen, sources = set(), []\n",
    "    for d in docs:\n",
    "        src = d.metadata.get(\"source\")\n",
    "        if src and src not in seen:\n",
    "            sources.append(src); seen.add(src)\n",
    "        if len(sources) == 3:\n",
    "            break\n",
    "\n",
    "    # Prompt und LLM-Aufruf (achte auf den korrekten Import deiner Version)\n",
    "    try:\n",
    "        from langchain_core.prompts import ChatPromptTemplate\n",
    "    except ModuleNotFoundError:\n",
    "        from langchain_core.prompts import ChatPromptTemplate\n",
    "\n",
    "\n",
    "    SAFE_SYSTEM_PROMPT = (\n",
    "        \"Du bist Kundenberater:in für MediaMarkt Onlineshop CH.\\n\"\n",
    "        \"Antworte NUR auf Basis des Kontexts. Wenn nichts passt, sag das offen.\\n\"\n",
    "        \"Erfinde nichts; gib keine rechtlichen Bewertungen. Zitiere bei Garantie/AGB knappe Textstellen.\\n\"\n",
    "        \"Kurz & präzise; am Ende max. 3 Quellen unter 'Quellen:'.\\n\\n\"\n",
    "        \"Kontext:\\n{context}\"\n",
    "    )\n",
    "\n",
    "    prompt = ChatPromptTemplate.from_messages([\n",
    "        (\"system\", SAFE_SYSTEM_PROMPT),\n",
    "        (\"human\", \"{question}\")\n",
    "    ])\n",
    "    msgs = prompt.format_messages(context=context, question=question)\n",
    "    res = llm.invoke(msgs).content\n",
    "\n",
    "    if sources:\n",
    "        res += \"\\n\\nQuellen:\\n\" + \"\\n\".join(f\"- {s}\" for s in sources)\n",
    "    return res\n"
   ],
   "id": "f5aca2bdcc7a049a",
   "outputs": [],
   "execution_count": 8
  },
  {
   "metadata": {},
   "cell_type": "markdown",
   "source": "Testfragen",
   "id": "d50c600f85383c86"
  },
  {
   "metadata": {
    "ExecuteTime": {
     "end_time": "2025-10-26T22:29:19.392223500Z",
     "start_time": "2025-10-26T22:16:25.223521Z"
    }
   },
   "cell_type": "code",
   "source": "print(answer_with_rag(\"Wie lange ist die Retourenfrist?\"))\n",
   "id": "b6c6add21328dd80",
   "outputs": [
    {
     "name": "stdout",
     "output_type": "stream",
     "text": [
      "Die im bereitgestellten Informationen wird keine konkrete Rückgabefrist angegeben.  \n",
      "\n",
      "**Quellen:**  \n",
      "- „Wie retourniere ich ein Produkt?“ (Abschnitt zu Rückgabemöglichkeiten)  \n",
      "- „Ich habe fälschlicherweise ein defektes Produkt als Retoure per Post versendet…“ (Hinweis zu defekten Artikeln)  \n",
      "\n",
      "Quellen:\n",
      "- C:\\Users\\yanni\\PycharmProjects\\GENAI_Grupp_G\\data\\raw\\stornieren_&_zurückgeben.html\n",
      "- C:\\Users\\yanni\\PycharmProjects\\GENAI_Grupp_G\\data\\raw\\garantie_und_versicherung _ MediaMarkt.html\n"
     ]
    }
   ],
   "execution_count": 9
  },
  {
   "metadata": {
    "ExecuteTime": {
     "end_time": "2025-10-26T22:29:19.407032800Z",
     "start_time": "2025-10-26T19:48:30.039608Z"
    }
   },
   "cell_type": "code",
   "source": "print(answer_with_rag(\"Welche Online-Zahlungsmethoden gibt es?\"))",
   "id": "43edd84342794424",
   "outputs": [
    {
     "name": "stdout",
     "output_type": "stream",
     "text": [
      "Im bereitgestellten Kontext wird lediglich erwähnt, dass MediaMarkt CH „eine Vielzahl an Zahlungsmöglichkeiten“ anbietet, aber es werden keine konkreten Online‑Zahlungsarten (z. B. Kreditkarte, PayPal, Twint usw.) aufgelistet.\n",
      "\n",
      "**Quellen:**  \n",
      "- MediaMarkt‑Service‑Übersicht: „…eine Vielzahl an Zahlungsmöglichkeiten…“ (aus dem Kontext)\n",
      "\n",
      "Quellen:\n",
      "- C:\\Users\\yanni\\PycharmProjects\\GENAI_Grupp_G\\data\\raw\\informieren_&_kaufen.html\n",
      "- C:\\Users\\yanni\\PycharmProjects\\GENAI_Grupp_G\\data\\raw\\garantie_und_versicherung _ MediaMarkt.html\n"
     ]
    }
   ],
   "execution_count": 11
  },
  {
   "metadata": {
    "ExecuteTime": {
     "end_time": "2025-10-26T22:29:19.407032800Z",
     "start_time": "2025-10-26T19:48:32.545468Z"
    }
   },
   "cell_type": "code",
   "source": "print(answer_with_rag(\"Wie lange gilt die Herstellergarantie bei MediaMarkt?\"))",
   "id": "7ed8bdf2a01c17c7",
   "outputs": [
    {
     "name": "stdout",
     "output_type": "stream",
     "text": [
      "Die bereitgestellten Informationen enthalten keine Angabe zur Dauer der Herstellergarantie bei MediaMarkt.  \n",
      "\n",
      "**Quellen:**  \n",
      "- „Garantie und Versicherung“ (MediaMarkt) – kein Hinweis auf die Garantiedauer.\n",
      "\n",
      "Quellen:\n",
      "- C:\\Users\\yanni\\PycharmProjects\\GENAI_Grupp_G\\data\\raw\\garantie_und_versicherung _ MediaMarkt.html\n",
      "- C:\\Users\\yanni\\PycharmProjects\\GENAI_Grupp_G\\data\\raw\\stornieren_&_zurückgeben.html\n",
      "- C:\\Users\\yanni\\PycharmProjects\\GENAI_Grupp_G\\data\\raw\\informieren_&_kaufen.html\n"
     ]
    }
   ],
   "execution_count": 12
  },
  {
   "metadata": {
    "ExecuteTime": {
     "end_time": "2025-10-26T22:29:19.407032800Z",
     "start_time": "2025-10-26T19:28:08.293929Z"
    }
   },
   "cell_type": "code",
   "source": "print(answer_with_rag(\"Wie retourniere ich ein Produkt?\"))",
   "id": "471615b9bbe578b4",
   "outputs": [
    {
     "name": "stdout",
     "output_type": "stream",
     "text": [
      "**Rückgabe eines Produkts**\n",
      "\n",
      "1. **Vor‑Ort‑Retoure im MediaMarkt (empfohlen)**  \n",
      "   - Besonders nötig, wenn die Originalverpackung bereits geöffnet wurde.  \n",
      "   - Gehe mit dem Produkt und dem Kaufbeleg zum Kundenservice des nächsten MediaMarkt‑Marktes.  \n",
      "\n",
      "2. **Rücksendung per Post**  \n",
      "   - Für ungeöffnete, originalverpackte Artikel kannst du das Produkt per Post an uns zurücksenden.  \n",
      "   - Nutze das Rücksendeformular aus deiner Bestellbestätigung und lege das Paket gut verpackt bei.  \n",
      "\n",
      "3. **Abholung für Reparatur (falls nötig)**  \n",
      "   - Bei defekten Geräten kann das Gerät kostenlos bei dir zuhause abgeholt, repariert und zurückgebracht werden. Ohne Garantieverlängerung kostet die Ab‑ und Zustellung CHF 158.  \n",
      "\n",
      "**Wichtig:** Das Produkt muss sich in einwandfreiem Zustand (ungeöffnet oder unbenutzt) befinden und die Originalverpackung enthalten, sonst ist die Vor‑Ort‑Retoure zwingend.  \n",
      "\n",
      "**Quellen**  \n",
      "- „Bei der Rückgabe eines Produkts stehen dir folgende Möglichkeiten zur Verfügung: a) Vor‑Ort‑Retoure im MediaMarkt (empfohlen; notwendig bei geöffneter Originalverpackung)…“  \n",
      "- „Defekte und generell nicht retournierbare Produkte werden zurückgeschickt…“  \n",
      "\n",
      "---  \n",
      "**Kontakt für Rückfragen**  \n",
      "E‑Mail | 0848 544 455 (Mo‑Fr 09:00‑19:00, Sa 09:00‑17:00)  \n",
      "\n",
      "Quellen:\n",
      "- C:\\Users\\simon\\OneDrive\\FH\\BAI\\GENAI_Grupp_G\\data\\raw\\stornieren_&_zurückgeben.html\n",
      "- C:\\Users\\simon\\OneDrive\\FH\\BAI\\GENAI_Grupp_G\\data\\raw\\retouren.html\n",
      "- C:\\Users\\simon\\OneDrive\\FH\\BAI\\GENAI_Grupp_G\\data\\raw\\garantie_und_versicherung _ MediaMarkt.html\n"
     ]
    }
   ],
   "execution_count": 76
  },
  {
   "metadata": {
    "ExecuteTime": {
     "end_time": "2025-10-26T22:29:19.407032800Z",
     "start_time": "2025-10-26T19:28:12.581176Z"
    }
   },
   "cell_type": "code",
   "source": "print(answer_with_rag(\"Wie werde ich Geschäftskunde?\"))",
   "id": "233807f65fc6bb38",
   "outputs": [
    {
     "name": "stdout",
     "output_type": "stream",
     "text": [
      "Um Geschäftskunde bei MediaMarkt CH zu werden, nutzen Sie unser B2B‑Portal. Dort finden Sie „massgeschneiderte Lösungen und zahlreiche Vorteile für B2B“ und können ein Kundenkonto anlegen bzw. Kontakt zu unserem Vertrieb aufnehmen. Alle Details und das Anmeldeformular finden Sie unter dem Hinweis **„Alle Infos findest du hier“** im Bereich „Wie werde ich Geschäftskunde?“.\n",
      "\n",
      "**Quellen**  \n",
      "- MediaMarkt CH – „Wie werde ich Geschäftskunde? Wir bieten massgeschneiderte Lösungen und zahlreiche Vorteile für B2B an. Alle Infos findest du hier.“\n",
      "\n",
      "Quellen:\n",
      "- C:\\Users\\simon\\OneDrive\\FH\\BAI\\GENAI_Grupp_G\\data\\raw\\informieren_&_kaufen.html\n",
      "- C:\\Users\\simon\\OneDrive\\FH\\BAI\\GENAI_Grupp_G\\data\\raw\\garantie_und_versicherung _ MediaMarkt.html\n",
      "- zahlungsarten _ mediamarkt.pdf\n"
     ]
    }
   ],
   "execution_count": 77
  },
  {
   "metadata": {
    "ExecuteTime": {
     "end_time": "2025-10-26T22:29:19.407032800Z",
     "start_time": "2025-10-26T19:28:18.508423Z"
    }
   },
   "cell_type": "code",
   "source": "print(answer_with_rag(\"Ist Interdiscount besser als Mediamarkt?\"))",
   "id": "8fe2dc3ff8f93e16",
   "outputs": [
    {
     "name": "stdout",
     "output_type": "stream",
     "text": [
      "Ich habe im bereitgestellten Kontext keine Informationen zu Interdiscount, daher kann ich keinen Vergleich zu MediaMarkt ziehen.\n",
      "\n",
      "**Quellen:**  \n",
      "- (Keine relevanten Quellen im Kontext)\n",
      "\n",
      "Quellen:\n",
      "- C:\\Users\\simon\\OneDrive\\FH\\BAI\\GENAI_Grupp_G\\data\\raw\\garantie_und_versicherung _ MediaMarkt.html\n",
      "- C:\\Users\\simon\\OneDrive\\FH\\BAI\\GENAI_Grupp_G\\data\\raw\\Zahlungsarten _ MediaMarkt.html\n",
      "- C:\\Users\\simon\\OneDrive\\FH\\BAI\\GENAI_Grupp_G\\data\\raw\\informieren_&_kaufen.html\n"
     ]
    }
   ],
   "execution_count": 78
  },
  {
   "metadata": {
    "ExecuteTime": {
     "end_time": "2025-10-26T22:29:19.407032800Z",
     "start_time": "2025-10-26T22:22:23.884803Z"
    }
   },
   "cell_type": "code",
   "source": [
    "import gradio as gr\n",
    "\n",
    "# --- Gradio UI ---\n",
    "def chat_interface(user_question):\n",
    "    # Ruft euren bestehenden RAG-Agenten auf:\n",
    "    response = answer_with_rag(user_question)\n",
    "    return response\n",
    "\n",
    "# --- Custom CSS für MediaMarkt Style ---\n",
    "custom_css = \"\"\"\n",
    "body {\n",
    "    background-color: #ffffff;\n",
    "    font-family: 'Helvetica', sans-serif;\n",
    "}\n",
    ".gradio-container {\n",
    "    border: 3px solid #e60000;\n",
    "    border-radius: 20px;\n",
    "    padding: 25px;\n",
    "    background: linear-gradient(180deg, #ffffff 0%, #ffecec 100%);\n",
    "    box-shadow: 0 0 25px rgba(230, 0, 0, 0.1);\n",
    "}\n",
    "h1, h2, h3 {\n",
    "    color: #e60000;\n",
    "    text-align: center;\n",
    "    font-weight: 900;\n",
    "    text-transform: uppercase;\n",
    "}\n",
    "textarea {\n",
    "    border: 2px solid #e60000 !important;\n",
    "    border-radius: 12px !important;\n",
    "    padding: 12px !important;\n",
    "    background-color: #fffafa !important;\n",
    "    font-size: 16px !important;\n",
    "}\n",
    "button {\n",
    "    background-color: #e60000 !important;\n",
    "    color: #ffffff !important;\n",
    "    border-radius: 12px !important;\n",
    "    border: none !important;\n",
    "    font-weight: bold !important;\n",
    "    transition: all 0.3s ease-in-out !important;\n",
    "}\n",
    "button:hover {\n",
    "    background-color: #b30000 !important;\n",
    "    transform: scale(1.05);\n",
    "}\n",
    ".output-markdown {\n",
    "    background-color: #fffafa !important;\n",
    "    border: 1px solid #e60000 !important;\n",
    "    border-radius: 12px !important;\n",
    "    padding: 15px !important;\n",
    "}\n",
    "footer {\n",
    "    text-align: center;\n",
    "    font-size: 13px;\n",
    "    color: #666;\n",
    "    margin-top: 15px;\n",
    "}\n",
    "\"\"\"\n",
    "\n",
    "demo = gr.Interface(\n",
    "    fn=chat_interface,\n",
    "    inputs=gr.Textbox(\n",
    "        label=\"💬 Frage:\",\n",
    "        placeholder=\"Frag den MediaMarkt Kundenservice...\",\n",
    "        lines=2,\n",
    "    ),\n",
    "    outputs=gr.Markdown(label=\"📖 Antwort\"),\n",
    "    title=\"🛒 MediaMarkt KI-Kundenservice\",\n",
    "    description=\"Dieser KI-Agent beantwortet Fragen auf Basis echter MediaMarkt-Dokumente (RAG + Safeguarding).\",\n",
    "    theme=\"gradio/soft\",\n",
    "    examples=[\n",
    "        [\"Wie lange ist die Retourenfrist?\"],\n",
    "        [\"Wie reklamiere ich ein defektes Produkt?\"],\n",
    "        [\"Welche Zahlungsmöglichkeiten gibt es?\"],\n",
    "    ],\n",
    "    css=custom_css,  # <- MediaMarkt Design anwenden\n",
    ")\n",
    "\n",
    "if __name__ == \"__main__\":\n",
    "    demo.launch(share=False)\n"
   ],
   "id": "54952c7ef18b0da3",
   "outputs": [
    {
     "name": "stdout",
     "output_type": "stream",
     "text": [
      "* Running on local URL:  http://127.0.0.1:7862\n",
      "* To create a public link, set `share=True` in `launch()`.\n"
     ]
    },
    {
     "data": {
      "text/plain": [
       "<IPython.core.display.HTML object>"
      ],
      "text/html": [
       "<div><iframe src=\"http://127.0.0.1:7862/\" width=\"100%\" height=\"500\" allow=\"autoplay; camera; microphone; clipboard-read; clipboard-write;\" frameborder=\"0\" allowfullscreen></iframe></div>"
      ]
     },
     "metadata": {},
     "output_type": "display_data"
    }
   ],
   "execution_count": 16
  }
 ],
 "metadata": {
  "kernelspec": {
   "display_name": "Python 3",
   "language": "python",
   "name": "python3"
  },
  "language_info": {
   "codemirror_mode": {
    "name": "ipython",
    "version": 2
   },
   "file_extension": ".py",
   "mimetype": "text/x-python",
   "name": "python",
   "nbconvert_exporter": "python",
   "pygments_lexer": "ipython2",
   "version": "2.7.6"
  }
 },
 "nbformat": 4,
 "nbformat_minor": 5
}
