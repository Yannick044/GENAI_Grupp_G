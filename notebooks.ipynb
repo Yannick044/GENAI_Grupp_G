{
 "cells": [
  {
   "cell_type": "code",
   "id": "initial_id",
   "metadata": {
    "collapsed": true,
    "ExecuteTime": {
     "end_time": "2025-10-22T13:53:24.963042Z",
     "start_time": "2025-10-22T13:53:24.941483Z"
    }
   },
   "source": [
    "#Modell Access\n",
    "\n",
    "from langchain_openai import ChatOpenAI\n",
    "from langchain_core.output_parsers import StrOutputParser\n",
    "from langchain_core.prompts import ChatPromptTemplate\n",
    "from langchain_cerebras import ChatCerebras\n",
    "\n",
    "import os\n",
    "\n",
    "#directly with ChatCerebras\n",
    "\n",
    "template = \"\"\"Question: {question}\n",
    "Answer: Let's think step by step.\"\"\"\n",
    "\n",
    "prompt = PromptTemplate(template=template, input_variables=[\"question\"])\n",
    "\n",
    "llm = ChatCerebras(\n",
    "    base_url=\"https://api.cerebras.ai/v1\",\n",
    "    api_key=os.environ.get(\"CEREBRAS_API_KEY\"),\n",
    "    model=\"gpt-oss-120b\",\n",
    ")\n",
    "\n",
    "llm_chain = LLMChain(prompt=prompt, llm=llm)\n",
    "\n",
    "question = \"What NFL team won the Super Bowl in the year Justin Beiber was born?\"\n",
    "\n",
    "print(llm_chain.invoke(question))\n",
    "\n",
    "# 1) Prompt-Template\n",
    "base_prompt = ChatPromptTemplate.from_template(\"\"\"\n",
    "Du bist ein hilfsbereiter Kundenberater für den MediaMarkt Online-Shop.\n",
    "Sprich ausschließlich über MediaMarkt-Produkte.\n",
    "Wenn etwas nicht zu MediaMarkt gehört, sag höflich: \"Dazu kann ich nichts sagen.\"\n",
    "Frage: {question}\n",
    "\"\"\")\n",
    "\n",
    "# 2) Modell\n",
    "llm = ChatOpenAI(model=\"gpt-4o-mini\", temperature=0.3)  # wählt ein Modell, niedrige temp = nüchtern/präzise\n",
    "\n",
    "# 3) Ausführen\n",
    "question = \"Welche Garantie hat der Samsung 55'' 4K TV?\"\n",
    "messages = base_prompt.format_messages(question=question)\n",
    "resp = llm.invoke(messages)\n",
    "print(resp.content)\n"
   ],
   "outputs": [
    {
     "ename": "NameError",
     "evalue": "name 'PromptTemplate' is not defined",
     "output_type": "error",
     "traceback": [
      "\u001B[31m---------------------------------------------------------------------------\u001B[39m",
      "\u001B[31mNameError\u001B[39m                                 Traceback (most recent call last)",
      "\u001B[36mCell\u001B[39m\u001B[36m \u001B[39m\u001B[32mIn[4]\u001B[39m\u001B[32m, line 15\u001B[39m\n\u001B[32m     10\u001B[39m \u001B[38;5;66;03m#directly with ChatCerebras\u001B[39;00m\n\u001B[32m     12\u001B[39m template = \u001B[33m\"\"\"\u001B[39m\u001B[33mQuestion: \u001B[39m\u001B[38;5;132;01m{question}\u001B[39;00m\n\u001B[32m     13\u001B[39m \u001B[33mAnswer: Let\u001B[39m\u001B[33m'\u001B[39m\u001B[33ms think step by step.\u001B[39m\u001B[33m\"\"\"\u001B[39m\n\u001B[32m---> \u001B[39m\u001B[32m15\u001B[39m prompt = \u001B[43mPromptTemplate\u001B[49m(template=template, input_variables=[\u001B[33m\"\u001B[39m\u001B[33mquestion\u001B[39m\u001B[33m\"\u001B[39m])\n\u001B[32m     17\u001B[39m llm = ChatCerebras(\n\u001B[32m     18\u001B[39m     base_url=\u001B[33m\"\u001B[39m\u001B[33mhttps://api.cerebras.ai/v1\u001B[39m\u001B[33m\"\u001B[39m,\n\u001B[32m     19\u001B[39m     api_key=os.environ.get(\u001B[33m\"\u001B[39m\u001B[33mCEREBRAS_API_KEY\u001B[39m\u001B[33m\"\u001B[39m),\n\u001B[32m     20\u001B[39m     model=\u001B[33m\"\u001B[39m\u001B[33mgpt-oss-120b\u001B[39m\u001B[33m\"\u001B[39m,\n\u001B[32m     21\u001B[39m )\n\u001B[32m     23\u001B[39m llm_chain = LLMChain(prompt=prompt, llm=llm)\n",
      "\u001B[31mNameError\u001B[39m: name 'PromptTemplate' is not defined"
     ]
    }
   ],
   "execution_count": 4
  },
  {
   "metadata": {},
   "cell_type": "code",
   "outputs": [],
   "execution_count": null,
   "source": "",
   "id": "e07b3d5d4ff4543e"
  }
 ],
 "metadata": {
  "kernelspec": {
   "display_name": "Python 3",
   "language": "python",
   "name": "python3"
  },
  "language_info": {
   "codemirror_mode": {
    "name": "ipython",
    "version": 2
   },
   "file_extension": ".py",
   "mimetype": "text/x-python",
   "name": "python",
   "nbconvert_exporter": "python",
   "pygments_lexer": "ipython2",
   "version": "2.7.6"
  }
 },
 "nbformat": 4,
 "nbformat_minor": 5
}
